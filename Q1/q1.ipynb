{
 "cells": [
  {
   "cell_type": "code",
   "execution_count": 1,
   "metadata": {},
   "outputs": [],
   "source": [
    "import numpy as np\n",
    "import pandas as pd"
   ]
  },
  {
   "cell_type": "markdown",
   "metadata": {},
   "source": [
    "## Define cosine similarity"
   ]
  },
  {
   "cell_type": "code",
   "execution_count": 2,
   "metadata": {},
   "outputs": [],
   "source": [
    "def cosine_similarity(vector1, vector2):\n",
    "    ans = np.dot(vector1, vector2)/(np.linalg.norm(vector1)*np.linalg.norm(vector2))\n",
    "    return ans"
   ]
  },
  {
   "cell_type": "markdown",
   "metadata": {},
   "source": [
    "## Define similarity above threshold checker function"
   ]
  },
  {
   "cell_type": "code",
   "execution_count": 3,
   "metadata": {},
   "outputs": [],
   "source": [
    "def are_they_Similar(score, th):\n",
    "    if(score>th):\n",
    "        return True ## Match, so no error\n",
    "    else:\n",
    "        return False #### Mismatch, so error = 1"
   ]
  },
  {
   "cell_type": "markdown",
   "metadata": {},
   "source": [
    "## Make a global unique word dictionary"
   ]
  },
  {
   "cell_type": "code",
   "execution_count": 4,
   "metadata": {},
   "outputs": [],
   "source": [
    "unique_words = set()"
   ]
  },
  {
   "cell_type": "markdown",
   "metadata": {},
   "source": [
    "## Importing Ground Truths and storing in dictionary and lists"
   ]
  },
  {
   "cell_type": "code",
   "execution_count": 5,
   "metadata": {},
   "outputs": [],
   "source": [
    "ground_truth = {}\n",
    "i=1\n",
    "with open('Word similarity/hindi.txt','r', encoding='utf-8') as file:\n",
    "    for line in file.readlines():\n",
    "        if(i==66):\n",
    "            break\n",
    "        i+=1\n",
    "        x = line.split(',')\n",
    "        term1,term2,similarity = x[0],x[1],x[2].strip('\\n')\n",
    "        ground_truth[(term1,term2)] = similarity\n",
    "        unique_words.add(term1)\n",
    "        unique_words.add(term2)"
   ]
  },
  {
   "cell_type": "code",
   "execution_count": 6,
   "metadata": {},
   "outputs": [],
   "source": [
    "# ground_truth"
   ]
  },
  {
   "cell_type": "markdown",
   "metadata": {},
   "source": [
    "## Main function to calculate accuracy"
   ]
  },
  {
   "cell_type": "code",
   "execution_count": 7,
   "metadata": {},
   "outputs": [],
   "source": [
    "def get_accuracy(word2vector, ground_truth, th,modelname):\n",
    "    errors = 0\n",
    "    n = 0\n",
    "    filename = 'Q1_'+modelname+'_similarity_'+str(int(th*10))+'.csv'\n",
    "    f = open(filename,'w')\n",
    "    for key in ground_truth.keys():\n",
    "        actual_score = float(ground_truth[key])\n",
    "        word1 = key[0]\n",
    "        word2 = key[1]\n",
    "\n",
    "        predicted_dist = cosine_similarity(np.array(word2vector[word1],dtype=float),np.array(word2vector[word2],dtype=float))\n",
    "        predicted_score = predicted_dist*10\n",
    "        \n",
    "        actual_ans = are_they_Similar(float(ground_truth[key]), th*10)\n",
    "        predicted_ans = are_they_Similar(predicted_score, th*10)\n",
    "        \n",
    "        label = -1\n",
    "        if(predicted_ans!=actual_ans):\n",
    "            errors += 1\n",
    "            label = 1\n",
    "        else:\n",
    "            label = 0\n",
    "        ## Writing output to file\n",
    "        f.write(word1+'\\t'+word2+'\\t'+str(predicted_score)+'\\t'+str(actual_score)+'\\t'+str(label))\n",
    "        f.write('\\n')\n",
    "#         print(word1,word2,predicted_score,ground_truth[key],label)\n",
    "        n += 1\n",
    "    \n",
    "    accuracy = \"{:.2f}\".format(float(1-(errors/n)))\n",
    "    \n",
    "    f.write(str(accuracy))\n",
    "    f.close()    \n",
    "    return accuracy\n",
    "        "
   ]
  },
  {
   "cell_type": "markdown",
   "metadata": {},
   "source": [
    "## Reading Corpus downloaded from cflit website"
   ]
  },
  {
   "cell_type": "markdown",
   "metadata": {},
   "source": [
    "## 1(a) Glove 50d model"
   ]
  },
  {
   "cell_type": "markdown",
   "metadata": {},
   "source": [
    "### Part 1: Reading vector from glove file"
   ]
  },
  {
   "cell_type": "code",
   "execution_count": 8,
   "metadata": {},
   "outputs": [],
   "source": [
    "glove_w2v = {}\n",
    "with open('hi/50/glove/hi-d50-glove.txt','r', encoding='utf-8') as file:\n",
    "    n = len(unique_words)\n",
    "    words_processed = 0\n",
    "    for line in file:\n",
    "        words = line.split(' ')\n",
    "        term = words[0]\n",
    "        if(term in unique_words):\n",
    "            words[-1] = words[-1].strip('\\n')\n",
    "            vect = words[1:]\n",
    "            glove_w2v[term] = vect\n",
    "            words_processed += 1\n",
    "            if(words_processed == n):\n",
    "                break\n",
    "        else:\n",
    "            continue"
   ]
  },
  {
   "cell_type": "code",
   "execution_count": 9,
   "metadata": {},
   "outputs": [],
   "source": [
    "# glove_w2v"
   ]
  },
  {
   "cell_type": "markdown",
   "metadata": {},
   "source": [
    "### Part 2: Getting accuracy at different thresholds"
   ]
  },
  {
   "cell_type": "code",
   "execution_count": 10,
   "metadata": {},
   "outputs": [
    {
     "name": "stdout",
     "output_type": "stream",
     "text": [
      "Glove 50d\n",
      "threshold = 0.4 , accuracy =  0.85\n",
      "threshold = 0.5 , accuracy =  0.72\n",
      "threshold = 0.6 , accuracy =  0.60\n",
      "threshold = 0.7 , accuracy =  0.68\n",
      "threshold = 0.8 , accuracy =  0.86\n"
     ]
    }
   ],
   "source": [
    "print(\"Glove 50d\")\n",
    "th_vals = [0.4,0.5,0.6,0.7,0.8]\n",
    "for th in th_vals:\n",
    "    accuracy = get_accuracy(glove_w2v, ground_truth, th,\"Glove 50d\")\n",
    "    print('threshold =',th,\", accuracy = \",accuracy)"
   ]
  },
  {
   "cell_type": "markdown",
   "metadata": {},
   "source": [
    "## 1(b) Glove 100d model"
   ]
  },
  {
   "cell_type": "markdown",
   "metadata": {},
   "source": [
    "### Part 1: Reading vector from glove file"
   ]
  },
  {
   "cell_type": "code",
   "execution_count": 11,
   "metadata": {},
   "outputs": [],
   "source": [
    "glove_w2v = {}\n",
    "with open('hi/100/glove/hi-d100-glove.txt','r', encoding='utf-8') as file:\n",
    "    n = len(unique_words)\n",
    "    words_processed = 0\n",
    "    for line in file:\n",
    "        words = line.split(' ')\n",
    "        term = words[0]\n",
    "        if(term in unique_words):\n",
    "            words[-1] = words[-1].strip('\\n')\n",
    "            vect = words[1:]\n",
    "            glove_w2v[term] = vect\n",
    "            words_processed += 1\n",
    "            if(words_processed == n):\n",
    "                break\n",
    "        else:\n",
    "            continue"
   ]
  },
  {
   "cell_type": "markdown",
   "metadata": {},
   "source": [
    "### Part 2: Getting accuracy at different thresholds"
   ]
  },
  {
   "cell_type": "code",
   "execution_count": 12,
   "metadata": {},
   "outputs": [
    {
     "name": "stdout",
     "output_type": "stream",
     "text": [
      "Glove 100d\n",
      "threshold = 0.4 , accuracy =  0.80\n",
      "threshold = 0.5 , accuracy =  0.63\n",
      "threshold = 0.6 , accuracy =  0.46\n",
      "threshold = 0.7 , accuracy =  0.65\n",
      "threshold = 0.8 , accuracy =  0.88\n"
     ]
    }
   ],
   "source": [
    "print(\"Glove 100d\")\n",
    "th_vals = [0.4,0.5,0.6,0.7,0.8]\n",
    "for th in th_vals:\n",
    "    accuracy = get_accuracy(glove_w2v, ground_truth, th, \"Glove 100d\")\n",
    "    print('threshold =',th,\", accuracy = \", accuracy)"
   ]
  },
  {
   "cell_type": "markdown",
   "metadata": {},
   "source": [
    "## 2(a)  Word2Vec CBOW 50d model"
   ]
  },
  {
   "cell_type": "markdown",
   "metadata": {},
   "source": [
    "### Part 1: Reading vector from cbow file"
   ]
  },
  {
   "cell_type": "code",
   "execution_count": 13,
   "metadata": {},
   "outputs": [],
   "source": [
    "from gensim.models import Word2Vec\n",
    "cbow_w2v = {}\n",
    "model = Word2Vec.load('hi/50/cbow/hi-d50-m2-cbow.model')\n",
    "n = len(unique_words)\n",
    "words_processed = 0\n",
    "for term in unique_words:        \n",
    "    vect = model.wv[term]\n",
    "    cbow_w2v[term] = vect\n",
    "    words_processed += 1            \n",
    "    if(words_processed == n):            \n",
    "        break\n",
    "    else:\n",
    "        continue"
   ]
  },
  {
   "cell_type": "code",
   "execution_count": 14,
   "metadata": {},
   "outputs": [],
   "source": [
    "# cbow_w2v"
   ]
  },
  {
   "cell_type": "markdown",
   "metadata": {},
   "source": [
    "### Part 2: Getting accuracy at different thresholds"
   ]
  },
  {
   "cell_type": "code",
   "execution_count": 15,
   "metadata": {},
   "outputs": [
    {
     "name": "stdout",
     "output_type": "stream",
     "text": [
      "Word2Vec CBOW 50d\n",
      "threshold = 0.4 , accuracy =  0.71\n",
      "threshold = 0.5 , accuracy =  0.57\n",
      "threshold = 0.6 , accuracy =  0.49\n",
      "threshold = 0.7 , accuracy =  0.65\n",
      "threshold = 0.8 , accuracy =  0.80\n"
     ]
    }
   ],
   "source": [
    "print(\"Word2Vec CBOW 50d\")\n",
    "th_vals = [0.4,0.5,0.6,0.7,0.8]\n",
    "for th in th_vals:\n",
    "    accuracy = get_accuracy(cbow_w2v, ground_truth, th, 'Word2Vec CBOW 50d')\n",
    "    print('threshold =',th,\", accuracy = \", accuracy)"
   ]
  },
  {
   "cell_type": "markdown",
   "metadata": {},
   "source": [
    "## 2(b)  Word2Vec CBOW 100d model"
   ]
  },
  {
   "cell_type": "markdown",
   "metadata": {},
   "source": [
    "### Part 1: Reading vector from cbow file"
   ]
  },
  {
   "cell_type": "code",
   "execution_count": 16,
   "metadata": {},
   "outputs": [],
   "source": [
    "from gensim.models import Word2Vec\n",
    "cbow_w2v = {}\n",
    "model = Word2Vec.load('hi/100/cbow/hi-d100-m2-cbow.model')\n",
    "n = len(unique_words)\n",
    "words_processed = 0\n",
    "for term in unique_words:        \n",
    "    vect = model.wv[term]\n",
    "    cbow_w2v[term] = vect\n",
    "    words_processed += 1            \n",
    "    if(words_processed == n):            \n",
    "        break\n",
    "    else:\n",
    "        continue"
   ]
  },
  {
   "cell_type": "markdown",
   "metadata": {},
   "source": [
    "### Part 2: Getting accuracy at different thresholds"
   ]
  },
  {
   "cell_type": "code",
   "execution_count": 17,
   "metadata": {},
   "outputs": [
    {
     "name": "stdout",
     "output_type": "stream",
     "text": [
      "Word2Vec CBOW 100d\n",
      "threshold = 0.4 , accuracy =  0.62\n",
      "threshold = 0.5 , accuracy =  0.49\n",
      "threshold = 0.6 , accuracy =  0.46\n",
      "threshold = 0.7 , accuracy =  0.62\n",
      "threshold = 0.8 , accuracy =  0.88\n"
     ]
    }
   ],
   "source": [
    "print(\"Word2Vec CBOW 100d\")\n",
    "th_vals = [0.4,0.5,0.6,0.7,0.8]\n",
    "for th in th_vals:\n",
    "    ac = get_accuracy(cbow_w2v, ground_truth, th,\"Word2Vec CBOW 100d\")\n",
    "    print('threshold =',th,\", accuracy = \", ac)"
   ]
  },
  {
   "cell_type": "markdown",
   "metadata": {},
   "source": [
    "## 3(a)  Word2Vec Skipgram 50d model"
   ]
  },
  {
   "cell_type": "markdown",
   "metadata": {},
   "source": [
    "### Part 1: Reading vector from cbow file"
   ]
  },
  {
   "cell_type": "code",
   "execution_count": 18,
   "metadata": {},
   "outputs": [],
   "source": [
    "from gensim.models import Word2Vec\n",
    "sg_w2v = {}\n",
    "model = Word2Vec.load('hi/50/sg/hi-d50-m2-sg.model')\n",
    "n = len(unique_words)\n",
    "words_processed = 0\n",
    "for term in unique_words:        \n",
    "    vect = model.wv[term]\n",
    "    sg_w2v[term] = vect\n",
    "    words_processed += 1            \n",
    "    if(words_processed == n):            \n",
    "        break\n",
    "    else:\n",
    "        continue"
   ]
  },
  {
   "cell_type": "markdown",
   "metadata": {},
   "source": [
    "### Part 2: Getting accuracy at different thresholds"
   ]
  },
  {
   "cell_type": "code",
   "execution_count": 19,
   "metadata": {},
   "outputs": [
    {
     "name": "stdout",
     "output_type": "stream",
     "text": [
      "Word2Vec skipgram 50d\n",
      "threshold = 0.4 , accuracy =  0.91\n",
      "threshold = 0.5 , accuracy =  0.83\n",
      "threshold = 0.6 , accuracy =  0.63\n",
      "threshold = 0.7 , accuracy =  0.63\n",
      "threshold = 0.8 , accuracy =  0.78\n"
     ]
    }
   ],
   "source": [
    "print(\"Word2Vec skipgram 50d\")\n",
    "th_vals = [0.4,0.5,0.6,0.7,0.8]\n",
    "for th in th_vals:\n",
    "    ac = get_accuracy(sg_w2v, ground_truth, th, \"Word2Vec skipgram 50d\")\n",
    "    print('threshold =',th,\", accuracy = \", ac)"
   ]
  },
  {
   "cell_type": "markdown",
   "metadata": {},
   "source": [
    "## 3(b)  Word2Vec Skipgram 100d model"
   ]
  },
  {
   "cell_type": "markdown",
   "metadata": {},
   "source": [
    "### Part 1: Reading vector from cbow file"
   ]
  },
  {
   "cell_type": "code",
   "execution_count": 20,
   "metadata": {},
   "outputs": [],
   "source": [
    "from gensim.models import Word2Vec\n",
    "sg_w2v = {}\n",
    "model = Word2Vec.load('hi/100/sg/hi-d100-m2-sg.model')\n",
    "n = len(unique_words)\n",
    "words_processed = 0\n",
    "for term in unique_words:        \n",
    "    vect = model.wv[term]\n",
    "    sg_w2v[term] = vect\n",
    "    words_processed += 1\n",
    "#     print(words_processed)\n",
    "    if(words_processed == n):            \n",
    "        break\n",
    "    else:\n",
    "        continue"
   ]
  },
  {
   "cell_type": "markdown",
   "metadata": {},
   "source": [
    "### Part 2: Getting accuracy at different thresholds"
   ]
  },
  {
   "cell_type": "code",
   "execution_count": 21,
   "metadata": {},
   "outputs": [
    {
     "name": "stdout",
     "output_type": "stream",
     "text": [
      "Word2Vec Skipgram 100d\n",
      "threshold = 0.4 , accuracy =  0.89\n",
      "threshold = 0.5 , accuracy =  0.62\n",
      "threshold = 0.6 , accuracy =  0.49\n",
      "threshold = 0.7 , accuracy =  0.63\n",
      "threshold = 0.8 , accuracy =  0.86\n"
     ]
    }
   ],
   "source": [
    "print(\"Word2Vec Skipgram 100d\")\n",
    "th_vals = [0.4,0.5,0.6,0.7,0.8]\n",
    "for th in th_vals:\n",
    "    ac = get_accuracy(sg_w2v, ground_truth, th,\"Word2Vec Skipgram 100d\")\n",
    "    print('threshold =',th,\", accuracy = \", ac)"
   ]
  },
  {
   "cell_type": "markdown",
   "metadata": {},
   "source": [
    "## 4(a)  Fast-text 50d model"
   ]
  },
  {
   "cell_type": "markdown",
   "metadata": {},
   "source": [
    "### Part 1: Reading vector from cbow file"
   ]
  },
  {
   "cell_type": "code",
   "execution_count": 22,
   "metadata": {},
   "outputs": [],
   "source": [
    "from gensim.models import FastText\n",
    "ft_w2v = {}\n",
    "model = FastText.load('hi/50/fasttext/hi-d50-m2-fasttext.model')\n",
    "n = len(unique_words)\n",
    "words_processed = 0\n",
    "for term in unique_words:        \n",
    "    vect = model.wv[term]\n",
    "    ft_w2v[term] = vect\n",
    "    words_processed += 1\n",
    "#     print(words_processed)\n",
    "    if(words_processed == n):            \n",
    "        break\n",
    "    else:\n",
    "        continue"
   ]
  },
  {
   "cell_type": "markdown",
   "metadata": {},
   "source": [
    "### Part 2: Getting accuracy at different thresholds"
   ]
  },
  {
   "cell_type": "code",
   "execution_count": 23,
   "metadata": {},
   "outputs": [
    {
     "name": "stdout",
     "output_type": "stream",
     "text": [
      "FastText 50d\n",
      "threshold = 0.4 , accuracy =  0.83\n",
      "threshold = 0.5 , accuracy =  0.83\n",
      "threshold = 0.6 , accuracy =  0.55\n",
      "threshold = 0.7 , accuracy =  0.65\n",
      "threshold = 0.8 , accuracy =  0.80\n"
     ]
    }
   ],
   "source": [
    "print(\"FastText 50d\")\n",
    "th_vals = [0.4,0.5,0.6,0.7,0.8]\n",
    "for th in th_vals:\n",
    "    ac = get_accuracy(ft_w2v, ground_truth, th, \"FastText 50d\")\n",
    "    print('threshold =',th,\", accuracy = \", ac)"
   ]
  },
  {
   "cell_type": "markdown",
   "metadata": {},
   "source": [
    "## 4(b)  Fast-text 100d model"
   ]
  },
  {
   "cell_type": "markdown",
   "metadata": {},
   "source": [
    "### Part 1: Reading vector from cbow file"
   ]
  },
  {
   "cell_type": "code",
   "execution_count": 24,
   "metadata": {},
   "outputs": [],
   "source": [
    "from gensim.models import FastText\n",
    "ft_w2v = {}\n",
    "model = FastText.load('hi/100/fasttext/hi-d100-m2-fasttext.model')\n",
    "n = len(unique_words)\n",
    "words_processed = 0\n",
    "for term in unique_words:        \n",
    "    vect = model.wv[term]\n",
    "    ft_w2v[term] = vect\n",
    "    words_processed += 1\n",
    "#     print(words_processed)\n",
    "    if(words_processed == n):            \n",
    "        break\n",
    "    else:\n",
    "        continue"
   ]
  },
  {
   "cell_type": "markdown",
   "metadata": {},
   "source": [
    "### Part 2: Getting accuracy at different thresholds"
   ]
  },
  {
   "cell_type": "code",
   "execution_count": 25,
   "metadata": {},
   "outputs": [
    {
     "name": "stdout",
     "output_type": "stream",
     "text": [
      "FastText 100d\n",
      "threshold = 0.4 , accuracy =  0.89\n",
      "threshold = 0.5 , accuracy =  0.66\n",
      "threshold = 0.6 , accuracy =  0.46\n",
      "threshold = 0.7 , accuracy =  0.63\n",
      "threshold = 0.8 , accuracy =  0.85\n"
     ]
    }
   ],
   "source": [
    "print(\"FastText 100d\")\n",
    "th_vals = [0.4,0.5,0.6,0.7,0.8]\n",
    "for th in th_vals:\n",
    "    ac  = get_accuracy(ft_w2v, ground_truth, th, \"FastText 100d\")\n",
    "    print('threshold =',th,\", accuracy = \", ac)"
   ]
  },
  {
   "cell_type": "code",
   "execution_count": 26,
   "metadata": {},
   "outputs": [
    {
     "name": "stdout",
     "output_type": "stream",
     "text": [
      "completed question 1\n"
     ]
    }
   ],
   "source": [
    "print(\"completed question 1\")"
   ]
  }
 ],
 "metadata": {
  "kernelspec": {
   "display_name": "Python 3 (ipykernel)",
   "language": "python",
   "name": "python3"
  },
  "language_info": {
   "codemirror_mode": {
    "name": "ipython",
    "version": 3
   },
   "file_extension": ".py",
   "mimetype": "text/x-python",
   "name": "python",
   "nbconvert_exporter": "python",
   "pygments_lexer": "ipython3",
   "version": "3.9.7"
  }
 },
 "nbformat": 4,
 "nbformat_minor": 4
}
